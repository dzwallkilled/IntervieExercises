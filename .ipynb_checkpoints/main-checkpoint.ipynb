{
 "cells": [
  {
   "cell_type": "code",
   "execution_count": 1,
   "metadata": {
    "collapsed": true
   },
   "outputs": [],
   "source": [
    "import csv\n",
    "sdf"
   ]
  },
  {
   "cell_type": "code",
   "execution_count": null,
   "metadata": {
    "pycharm": {
     "name": "#%%\n"
    }
   },
   "outputs": [],
   "source": [
    "with open('RawData.csv') as csv_file:\n",
    "    csv_reader = csv.reader(csv_file)\n",
    "    raw_data = []\n",
    "    for row in csv_reader:\n",
    "        raw_data.append(row)\n",
    "    attribute_names = raw_data[0]\n",
    "    raw_data = raw_data[1:]\n"
   ]
  },
  {
   "cell_type": "code",
   "execution_count": null,
   "metadata": {
    "pycharm": {
     "name": "#%%\n"
    }
   },
   "outputs": [],
   "source": [
    "teams = []\n",
    "for row in raw_data:\n",
    "    if row[2] not in teams:\n",
    "        teams.append(row[2])\n",
    "teams.sort()\n",
    "teams_to_idx = {t:i for i, t in enumerate(teams)}\n",
    "transformed_data = raw_data\n",
    "for row in transformed_data:\n",
    "    row[2] = row[5] = row[6] = teams_to_idx[row[2]]\n",
    "\n",
    "\n"
   ]
  }
 ],
 "metadata": {
  "kernelspec": {
   "display_name": "Python 3",
   "language": "python",
   "name": "python3"
  },
  "language_info": {
   "codemirror_mode": {
    "name": "ipython",
    "version": 3
   },
   "file_extension": ".py",
   "mimetype": "text/x-python",
   "name": "python",
   "nbconvert_exporter": "python",
   "pygments_lexer": "ipython3",
   "version": "3.7.4"
  }
 },
 "nbformat": 4,
 "nbformat_minor": 1
}
