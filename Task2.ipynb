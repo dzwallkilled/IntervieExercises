{
 "cells": [
  {
   "cell_type": "markdown",
   "metadata": {
    "collapsed": true,
    "pycharm": {
     "name": "#%% md\n"
    }
   },
   "source": [
    "# Task 2\n",
    "\n",
    "To analyze and develop a method for detection of one of the following behaviours\n",
    "\n",
    "1. Sudden increases in wagering amounts\n",
    "2. Doubling wagering pattern\n",
    "3. Loss-chasing patterns\n",
    "\n",
    "## Sudden increases in wagering amounts\n",
    "\n",
    "In detecting sudden increases in wagering amounts, we need to consider clients' personal habits.\n",
    "Some customers might wager very close amounts of money each time, while some others do the opposite, sudden change between consecutive wagering events.\n",
    "Such habits could be found in their historical wagering events.\n",
    "\n",
    "Given a serious of wagering amounts $\\{x_t\\}_{t=0}^T$, where $T$ refers to instance $T$,\n",
    "we need to calculate differences $\\delta x_t = x_t - x_{t-1}$ for every instances and corresponding mean $\\mu$ and std $\\sigma$.\n",
    "\n",
    "$\\mu = \\frac{1}{T}\\sum_{t=1}^{T}\\delta x_t$\n",
    "\n",
    "$\\sigma = \\sqrt {\\frac{1}{T}\\sum_{t=1}^{T} (\\delta x_t - \\mu)^2}$\n",
    "\n",
    "If $\\delta x_{t+1} - \\mu > 2.5 \\sigma$, then it could be considered the amount is suddenly increased.\n",
    "\n",
    "```\n",
    "Requirement: betting amount history\n",
    "```\n",
    "\n",
    "\n",
    "In addition, given a set of clients, we could group them into clusters according to their __features__, such as wagering history, occupations, salaries, locations, etc.\n",
    "The clients within the same cluster would probabily have similar habits. Hence, the mean and std could be calculated based on the whole cluster instead of a single person.\n",
    "This could provide help in situations when a new client occurs.\n",
    "\n",
    "\n",
    "On the other hand, a time serious model such as LSTM could be used to predict customer behaviour, such as next wagering amount.\n",
    "Hence, the case of $x_T - f(\\{x_t\\}_{0}^{T-1}|\\Theta) > r$ could also be considered a sudden increase, where $f()$ is the model function with parameters $\\Theta$,\n",
    "$r$ is the threshould to be determined.\n",
    "\n",
    "## Doubling wagering patterns\n",
    "Doubling wagering, also called martingale betting system, means when losing $x$ amount of money in a gambling, then bet $2x$ amount of money the next time, so that the returned money can recover the loss and make profits once the clients won.\n",
    "In theory, someone using this strategy will never loss money, as the expectation is greater than 0.\n",
    "However, that theory is based on assumption that one possesses infinite wealth, which is not the fact to anyone.\n",
    "Due to the exponential increase in bet amount, after few number of loss, the betting amount will reach beyond the clients' wealth quickly.\n",
    "Hence, doubling wagering will lead to bankrupt eventually and clients showing this pattern should be warned as early as possible.\n",
    "\n",
    "Given the previous betting amount $x_{t-1}$ and the corresponding win/loss result, if $ x_{t} \\ge 2x_{t-1}$, it could be considered the client is probably using the\n",
    "doubling wagering strategy. If this happens frequently, it means the client is using the strategy.\n",
    "\n",
    "```\n",
    "Requirement: betting amount history and win/loss logs\n",
    "```\n",
    "\n",
    "\n",
    "## Loss-chasing patterns\n",
    "Loss-chasing strategy is like doubling wagering strategy that, it will also lead to bankrupt eventually, since the risk also increases exponentially.\n",
    "\n",
    "The loss could be calculated as\n",
    "$\\sum_{t=0}^{T} \\delta(t)x_t$\n",
    "\n",
    "where $\\delta(t)$ is the win/loss function, $\\delta(t)=+1$ if client wins at time $t$, else $\\delta(t)=-1$.\n",
    "\n",
    "For instance $T+1$, the client would bet $x_{T+1} = \\sum_{t=0}^{T} \\delta(t)x_t$.\n",
    "\n",
    "```\n",
    "Requirement: betting amount history and win/loss logs\n",
    "```\n"
   ]
  }
 ],
 "metadata": {
  "kernelspec": {
   "display_name": "Python 3",
   "language": "python",
   "name": "python3"
  },
  "language_info": {
   "codemirror_mode": {
    "name": "ipython",
    "version": 2
   },
   "file_extension": ".py",
   "mimetype": "text/x-python",
   "name": "python",
   "nbconvert_exporter": "python",
   "pygments_lexer": "ipython2",
   "version": "2.7.6"
  }
 },
 "nbformat": 4,
 "nbformat_minor": 0
}